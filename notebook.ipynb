{
 "cells": [
  {
   "cell_type": "code",
   "execution_count": 12,
   "id": "de3a6320",
   "metadata": {},
   "outputs": [],
   "source": [
    "from bigram_utils import get_bigrams, transition_matrix\n",
    "from decipher import prolom_substitute\n"
   ]
  },
  {
   "cell_type": "code",
   "execution_count": 13,
   "id": "932dacf0",
   "metadata": {},
   "outputs": [
    {
     "name": "stdout",
     "output_type": "stream",
     "text": [
      "🔒 Zašifrovaný text:\n",
      "\n",
      "ZVNXL_QIL_TSNKRMNS_MIZXYL_PGRYRG_XL_PGRYGF_CMUR_XMFGDYF_OFXYF_OZI_BF_PVNI_Z_OFXZI_MR_YZ_DNOFYVL_QZ_DNOFYP_UN_BPMRIN_WLU_XLTNGFUZYN_Z_VOLQ_PQ_BYR_QWLXZIN_CRYNB_TRU_BFYPU_GULSF_BFYPUL_USF_BFYPUL_Z_CZ_YRBRIZ_CRMUR_YFG_UP_BF_QZWNPGDZIN_MSOGR_Z_CZ_BRIZ_UZVNXL_MUSZMYL_TNGFU__QZUZIZ_TSMUL_ON_TSNVNTNXL_TZQR_Z_QZMLVIZ_TZV_PQ_CMRB_MR_YZ_UL_DNOFYL_F_URMFIZ_X_ORXZURYZGUF_BYR_QZMYNPWFIF_UN_ZYF_YRXFM_XFO_Z_TSNUNQR_CMRB_PQ_XRORIZ_XMRGDYN_BPMRI_BYR_BPC_QRYFGD_TSFMZDZU_QR_MR_BYR_YFVOL_YRONUVYR_QZ_OXR_IRUZ_TZOI_X\n"
     ]
    }
   ],
   "source": [
    "with open(\"data/encrypted_samples/text_1000_sample_1_ciphertext.txt\", encoding=\"utf-8\") as f:\n",
    "    ciphertext = f.read().strip()\n",
    "\n",
    "print(\"🔒 Zašifrovaný text:\\n\")\n",
    "print(ciphertext[:500])  # ukáže prvních 500 znaků"
   ]
  },
  {
   "cell_type": "code",
   "execution_count": 14,
   "id": "783cfc30",
   "metadata": {},
   "outputs": [],
   "source": [
    "with open(\"data/encrypted_samples/text_1000_sample_1_ciphertext.txt\", encoding=\"utf-8\") as f:\n",
    "    ciphertext = f.read().strip()\n"
   ]
  },
  {
   "cell_type": "code",
   "execution_count": 15,
   "id": "7408ce99",
   "metadata": {},
   "outputs": [
    {
     "name": "stdout",
     "output_type": "stream",
     "text": [
      "Iteration 0, score: -inf\n",
      "Iteration 5000, score: -inf\n",
      "Iteration 10000, score: -inf\n",
      "Iteration 15000, score: -inf\n",
      "Iteration 20000, score: -inf\n",
      "Iteration 25000, score: -inf\n",
      "Iteration 30000, score: -inf\n",
      "Iteration 35000, score: -inf\n",
      "Iteration 40000, score: -inf\n",
      "Iteration 45000, score: -inf\n",
      "Iteration 50000, score: -inf\n",
      "Iteration 55000, score: -inf\n",
      "Iteration 60000, score: -inf\n",
      "Iteration 65000, score: -inf\n",
      "Iteration 70000, score: -inf\n",
      "Iteration 75000, score: -inf\n",
      "Iteration 80000, score: -inf\n",
      "Iteration 85000, score: -inf\n",
      "Iteration 90000, score: -inf\n",
      "Iteration 95000, score: -inf\n",
      "🔒 Zašifrovaný text:\n",
      "ZVNXL_QIL_TSNKRMNS_MIZXYL_PGRYRG_XL_PGRYGF_CMUR_XMFGDYF_OFXYF_OZI_BF_PVNI_Z_OFXZI_MR_YZ_DNOFYVL_QZ_DNOFYP_UN_BPMRIN_WLU_XLTNGFUZYN_Z_VOLQ_PQ_BYR_QWLXZIN_CRYNB_TRU_BFYPU_GULSF_BFYPUL_USF_BFYPUL_Z_CZ_YRBRIZ_CRMUR_YFG_UP_BF_QZWNPGDZIN_MSOGR_Z_CZ_BRIZ_UZVNXL_MUSZMYL_TNGFU__QZUZIZ_TSMUL_ON_TSNVNTNXL_TZQR_Z_QZMLVIZ_TZV_PQ_CMRB_MR_YZ_UL_DNOFYL_F_URMFIZ_X_ORXZURYZGUF_BYR_QZMYNPWFIF_UN_ZYF_YRXFM_XFO_Z_TSNUNQR_CMRB_PQ_XRORIZ_XMRGDYN_BPMRI_BYR_BPC_QRYFGD_TSFMZDZU_QR_MR_BYR_YFVOL_YRONUVYR_QZ_OXR_IRUZ_TZOI_X_ZKSFGR_XLXZORIZ_CMRB__Q_SNBZYUFVL_YRWN_TSNG__UZV_QR_BYR_TZV_PQ_YFVOL_YRYPUFIF_XOZU_MR_BLMIRIZ_CMRB_QR_UFB_BZB_XMRGVN_NOWLUN_Z_XFOFM_URDOL_CMRB_MR_ON_UNDN_XIZMUYR_CRY_YPUFIZ_YPUFIZ_CMRB_MR_XRSFU_QR_CMRB_BP_QPMUZIZ_YRGN_OIPQYZ_Z_QR_BP_F_TN_MBSUF_BPMFB_MUZU_X_MINXR_ZQ_MR_BF_YZVNYRG_Q_UNDN_XMRDN_QOZIN_QR_CMRB_DN_BFINXZIZ_URO_XFOFB_QR_CMRB_UN_XMRGDYN_CRY_DSZIZ_MZBZ_TSRO_MRWNP_Z_QR_CMRB_YRGFUFIZ_YFG_XFG_YFG_XFG_YRQ_DINPTR_QVIZBZYF_XFO_CR_UN_OFXYR_QR_UF_BPMFB_N_MNWR_SFVZU_UZVNXR_XRGF_XFM_UN_CR_UZV_TSF\n",
      "\n",
      "✅ Dešifrovaný text:\n",
      "WMFDL_QZL_VOFBIUFO_UZWDNL_EPINIP_DL_EPINPY_CUKI_DUYPHNY_GYDNY_GWZ_SY_EMFZ_W_GYDWZ_UI_NW_HFGYNML_QW_HFGYNE_KF_SEUIZF_TLK_DLVFPYKWNF_W_MGLQ_EQ_SNI_QTLDWZF_CINFS_VIK_SYNEK_PKLOY_SYNEKL_KOY_SYNEKL_W_CW_NISIZW_CIUKI_NYP_KE_SY_QWTFEPHWZF_UOGPI_W_CW_SIZW_KWMFDL_UKOWUNL_VFPYK__QWKWZW_VOUKL_GF_VOFMFVFDL_VWQI_W_QWULMZW_VWM_EQ_CUIS_UI_NW_KL_HFGYNL_Y_KIUYZW_D_GIDWKINWPKY_SNI_QWUNFETYZY_KF_WNY_NIDYU_DYG_W_VOFKFQI_CUIS_EQ_DIGIZW_DUIPHNF_SEUIZ_SNI_SEC_QINYPH_VOYUWHWK_QI_UI_SNI_NYMGL_NIGFKMNI_QW_GDI_ZIKW_VWGZ_D_WBOYPI_DLDWGIZW_CUIS__Q_OFSWNKYML_NITF_VOFP__KWM_QI_SNI_VWM_EQ_NYMGL_NINEKYZY_DGWK_UI_SLUZIZW_CUIS_QI_KYS_SWS_DUIPMF_FGTLKF_W_DYGYU_KIHGL_CUIS_UI_GF_KFHF_DZWUKNI_CIN_NEKYZW_NEKYZW_CUIS_UI_DIOYK_QI_CUIS_SE_QEUKWZW_NIPF_GZEQNW_W_QI_SE_Y_VF_USOKY_SEUYS_UKWK_D_UZFDI_WQ_UI_SY_NWMFNIP_Q_KFHF_DUIHF_QGWZF_QI_CUIS_HF_SYZFDWZW_KIG_DYGYS_QI_CUIS_KF_DUIPHNF_CIN_HOWZW_UWSW_VOIG_UITFE_W_QI_CUIS_NIPYKYZW_NYP_DYP_NYP_DYP_NIQ_HZFEVI_QMZWSWNY_DYG_CI_KF_GYDNI_QI_KY_SEUYS_F_UFTI_OYMWK_KWMFDI_DIPY_DYU_KF_CI_KWM_VOY\n",
      "\n",
      "🔑 Použitý klíč:\n",
      "JSCHRYPXZABLUFGEQIOVKMTDNW_\n"
     ]
    }
   ],
   "source": [
    "key, decrypted, score = prolom_substitute(ciphertext, TM_ref, iter=100000)\n",
    "\n",
    "print(\"🔒 Zašifrovaný text:\")\n",
    "print(ciphertext)\n",
    "\n",
    "print(\"\\n✅ Dešifrovaný text:\")\n",
    "print(decrypted)\n",
    "\n",
    "print(\"\\n🔑 Použitý klíč:\")\n",
    "print(key)\n"
   ]
  }
 ],
 "metadata": {
  "kernelspec": {
   "display_name": ".venv",
   "language": "python",
   "name": "python3"
  },
  "language_info": {
   "codemirror_mode": {
    "name": "ipython",
    "version": 3
   },
   "file_extension": ".py",
   "mimetype": "text/x-python",
   "name": "python",
   "nbconvert_exporter": "python",
   "pygments_lexer": "ipython3",
   "version": "3.13.3"
  }
 },
 "nbformat": 4,
 "nbformat_minor": 5
}

{
 "cells": [
  {
   "cell_type": "markdown",
   "id": "18c56944",
   "metadata": {},
   "source": [
    "import matplotlib.pyplot as plt\n",
    "import seaborn as sns\n",
    "from substitution_cipher.cipher import substitute_decrypt\n",
    "from substitution_cipher.bigram_utils import get_bigrams, transition_matrix, plausibility\n",
    "from substitution_cipher.mh_cracker import prolom_substitute\n"
   ]
  },
  {
   "cell_type": "code",
   "execution_count": 1,
   "id": "081a9524",
   "metadata": {},
   "outputs": [
    {
     "ename": "NameError",
     "evalue": "name 'transition_matrix' is not defined",
     "output_type": "error",
     "traceback": [
      "\u001b[31m---------------------------------------------------------------------------\u001b[39m",
      "\u001b[31mNameError\u001b[39m                                 Traceback (most recent call last)",
      "\u001b[36mCell\u001b[39m\u001b[36m \u001b[39m\u001b[32mIn[1]\u001b[39m\u001b[32m, line 4\u001b[39m\n\u001b[32m      1\u001b[39m \u001b[38;5;28;01mwith\u001b[39;00m \u001b[38;5;28mopen\u001b[39m(\u001b[33m\"\u001b[39m\u001b[33mdata/reference_text.txt\u001b[39m\u001b[33m\"\u001b[39m, encoding=\u001b[33m\"\u001b[39m\u001b[33mutf-8\u001b[39m\u001b[33m\"\u001b[39m) \u001b[38;5;28;01mas\u001b[39;00m f:\n\u001b[32m      2\u001b[39m     reference_text = f.read().replace(\u001b[33m\"\u001b[39m\u001b[33m \u001b[39m\u001b[33m\"\u001b[39m, \u001b[33m\"\u001b[39m\u001b[33m_\u001b[39m\u001b[33m\"\u001b[39m).upper()\n\u001b[32m----> \u001b[39m\u001b[32m4\u001b[39m TM_ref = \u001b[43mtransition_matrix\u001b[49m(get_bigrams(reference_text))\n",
      "\u001b[31mNameError\u001b[39m: name 'transition_matrix' is not defined"
     ]
    }
   ],
   "source": [
    "with open(\"data/reference_text.txt\", encoding=\"utf-8\") as f:\n",
    "    reference_text = f.read().replace(\" \", \"_\").upper()\n",
    "\n",
    "TM_ref = transition_matrix(get_bigrams(reference_text))\n"
   ]
  },
  {
   "cell_type": "code",
   "execution_count": null,
   "id": "26c5c9e6",
   "metadata": {},
   "outputs": [],
   "source": [
    "import numpy as np\n",
    "import pandas as pd\n",
    "\n",
    "alphabet = list(\"ABCDEFGHIJKLMNOPQRSTUVWXYZ_\")\n",
    "df = pd.DataFrame(TM_ref, index=alphabet, columns=alphabet)\n",
    "\n",
    "plt.figure(figsize=(10,8))\n",
    "sns.heatmap(df, cmap=\"YlGnBu\", xticklabels=True, yticklabels=True)\n",
    "plt.title(\"Bigramová přechodová matice (reference)\")\n",
    "plt.show()\n"
   ]
  },
  {
   "cell_type": "code",
   "execution_count": null,
   "id": "75c6a13a",
   "metadata": {},
   "outputs": [],
   "source": [
    "with open(\"data/encrypted_samples/text_1000_sample_1_ciphertext.txt\", encoding=\"utf-8\") as f:\n",
    "    ciphertext = f.read().strip()\n"
   ]
  },
  {
   "cell_type": "code",
   "execution_count": null,
   "id": "cee79c92",
   "metadata": {},
   "outputs": [],
   "source": [
    "key, plaintext, score = prolom_substitute(ciphertext, TM_ref, iter=20000)\n",
    "\n",
    "print(\"🔐 Ciphertext:\\n\", ciphertext[:300])\n",
    "print(\"\\n✅ Decrypted:\\n\", plaintext[:300])\n",
    "print(\"\\n🔑 Key used:\\n\", ''.join(key))\n"
   ]
  },
  {
   "cell_type": "code",
   "execution_count": null,
   "id": "6f816ecf",
   "metadata": {},
   "outputs": [],
   "source": [
    "from substitution_cipher.export_utils import save_decrypted_output\n",
    "\n",
    "save_decrypted_output(plaintext, key, sample_id=1, length=1000)\n"
   ]
  }
 ],
 "metadata": {
  "kernelspec": {
   "display_name": ".venv",
   "language": "python",
   "name": "python3"
  },
  "language_info": {
   "codemirror_mode": {
    "name": "ipython",
    "version": 3
   },
   "file_extension": ".py",
   "mimetype": "text/x-python",
   "name": "python",
   "nbconvert_exporter": "python",
   "pygments_lexer": "ipython3",
   "version": "3.13.3"
  }
 },
 "nbformat": 4,
 "nbformat_minor": 5
}
